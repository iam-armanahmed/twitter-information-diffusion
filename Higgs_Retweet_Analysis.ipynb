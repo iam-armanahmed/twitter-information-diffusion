{
 "cells": [
  {
   "cell_type": "code",
   "execution_count": 12,
   "metadata": {},
   "outputs": [
    {
     "name": "stdout",
     "output_type": "stream",
     "text": [
      "Warning: Cannot change to a different GUI toolkit: tk. Using qt instead.\n"
     ]
    }
   ],
   "source": [
    "# import libraries\n",
    "\n",
    "import csv\n",
    "import networkx as nx\n",
    "import matplotlib\n",
    "import matplotlib.pyplot as plt\n",
    "%matplotlib tk"
   ]
  },
  {
   "cell_type": "code",
   "execution_count": 13,
   "metadata": {},
   "outputs": [],
   "source": [
    "# function for computing betweeness centrality for finding the influencer \n",
    "\n",
    "def btc_node(graph):\n",
    "    \n",
    "    btc = nx.betweenness_centrality(graph)\n",
    "    node_size = []\n",
    "    \n",
    "    for i in graph.nodes():\n",
    "        ns = btc[i]*1000+10\n",
    "        node_size.append(ns)\n",
    "    \n",
    "    return node_size"
   ]
  },
  {
   "cell_type": "code",
   "execution_count": 14,
   "metadata": {},
   "outputs": [],
   "source": [
    "# function for computing page rank for finding the influencer \n",
    "\n",
    "def pg_node(graph):\n",
    "    \n",
    "    pg = nx.pagerank(graph)\n",
    "    node_size = []\n",
    "    \n",
    "    for i in graph.nodes():\n",
    "        node_size.append(pg[i]*10000+50)\n",
    "    \n",
    "    return node_size"
   ]
  },
  {
   "cell_type": "code",
   "execution_count": 15,
   "metadata": {},
   "outputs": [],
   "source": [
    "# Function to get the weigth for the Island Model\n",
    "\n",
    "def compute_weights(graph_w):\n",
    "    wgt = []\n",
    "    for frm, to, edg_data in graph_w.edges(data=True):\n",
    "        wgt.append(edg_data['weight'])\n",
    "    return wgt"
   ]
  },
  {
   "cell_type": "code",
   "execution_count": 16,
   "metadata": {},
   "outputs": [],
   "source": [
    "# function to sort components for Island model\n",
    "\n",
    "def deg_sort(graph):\n",
    "    dg_graph = dict(nx.degree(graph))\n",
    "    graph_sort = sorted(dg_graph.items(),key=lambda uv:(-uv[1], uv[0]))\n",
    "    return graph_sort"
   ]
  },
  {
   "cell_type": "code",
   "execution_count": 17,
   "metadata": {},
   "outputs": [],
   "source": [
    "# function to remove weight for Island Model\n",
    "\n",
    "def weight_remove(graph, weight=1):\n",
    "    \"\"\"\n",
    "    Remove edges with weights less then a threshold parameter (\"weight\")\n",
    "    \"\"\"\n",
    "    graph_r = nx.Graph()\n",
    "    for frm, to, edg_data in graph.edges(data=True):\n",
    "        if edg_data['weight'] > weight:\n",
    "            graph_r.add_edge(frm,to, attr_dict=edg_data)\n",
    "    return graph_r"
   ]
  },
  {
   "cell_type": "code",
   "execution_count": 18,
   "metadata": {},
   "outputs": [],
   "source": [
    "# Read Twitter Retweet File \n",
    "\n",
    "graph_file = csv.reader(open('Data/higgs-retweet_network.edgelist','rt'), delimiter=' ')"
   ]
  },
  {
   "cell_type": "code",
   "execution_count": 19,
   "metadata": {},
   "outputs": [],
   "source": [
    "# Create an empty graph\n",
    "\n",
    "retweet_graph = nx.Graph()"
   ]
  },
  {
   "cell_type": "code",
   "execution_count": 20,
   "metadata": {},
   "outputs": [],
   "source": [
    "# Create a retweet graph between users\n",
    "\n",
    "for details in graph_file:\n",
    "    retweet_graph.add_edge(details[0],details[1],weight=int(details[2]))"
   ]
  },
  {
   "cell_type": "code",
   "execution_count": 21,
   "metadata": {},
   "outputs": [
    {
     "data": {
      "text/plain": [
       "256491"
      ]
     },
     "execution_count": 21,
     "metadata": {},
     "output_type": "execute_result"
    }
   ],
   "source": [
    "# Total Number of Nodes in Grpah\n",
    "\n",
    "len(retweet_graph.nodes())"
   ]
  },
  {
   "cell_type": "code",
   "execution_count": 54,
   "metadata": {},
   "outputs": [],
   "source": [
    "# Plot Weight Distribution of the largest componenet in retweet\n",
    "\n",
    "weights = compute_weights(retweet_graph) \n",
    "plt.xlabel('Weight', fontsize=20)\n",
    "plt.ylabel('Number of Nodes', fontsize=20)\n",
    "\n",
    "plt.title('Re-tweet Weight Distribution Of Original Graph', fontsize=20)\n",
    "plt.tight_layout()\n",
    "hist=plt.hist(weights,100)"
   ]
  },
  {
   "cell_type": "code",
   "execution_count": 55,
   "metadata": {},
   "outputs": [
    {
     "name": "stdout",
     "output_type": "stream",
     "text": [
      "Total Number  of Components 13199\n"
     ]
    }
   ],
   "source": [
    "# Total Number of Connected Components in Retweeted Graph\n",
    "\n",
    "retweet_subgraphs=list(nx.connected_component_subgraphs(retweet_graph))\n",
    "retweet_subgraphs.sort(key=len, reverse=True)\n",
    "print('Total Number  of Components', len(retweet_subgraphs))"
   ]
  },
  {
   "cell_type": "code",
   "execution_count": 56,
   "metadata": {},
   "outputs": [],
   "source": [
    "# Get the largest component \n",
    "\n",
    "retweet_lgst_component = retweet_subgraphs[0]"
   ]
  },
  {
   "cell_type": "code",
   "execution_count": 57,
   "metadata": {},
   "outputs": [
    {
     "data": {
      "text/plain": [
       "223833"
      ]
     },
     "execution_count": 57,
     "metadata": {},
     "output_type": "execute_result"
    }
   ],
   "source": [
    "# len of largest component\n",
    "\n",
    "len(retweet_lgst_component)"
   ]
  },
  {
   "cell_type": "code",
   "execution_count": 58,
   "metadata": {},
   "outputs": [],
   "source": [
    "# Plot Weight Distribution of the largest componenet in retweet\n",
    "\n",
    "weights = compute_weights(retweet_lgst_component) \n",
    "plt.xlabel('Weight', fontsize=20)\n",
    "plt.ylabel('Number of Nodes', fontsize=20)\n",
    "plt.title('Retweet Weight Distribution of LWCC', fontsize=20)\n",
    "plt.tight_layout()\n",
    "hist=plt.hist(weights,100)"
   ]
  },
  {
   "cell_type": "code",
   "execution_count": 90,
   "metadata": {},
   "outputs": [],
   "source": [
    "# removes edges to find the core componen20\n",
    "retweet_lgst_component_trim = weight_remove(retweet_lgst_component, weight=15)"
   ]
  },
  {
   "cell_type": "code",
   "execution_count": 91,
   "metadata": {},
   "outputs": [],
   "source": [
    "# Extract the connected components of 'retweet_lgst_component_trim' graph\n",
    "\n",
    "retweet_lgst_component_trim_sub_components = list(nx.connected_component_subgraphs(retweet_lgst_component_trim))"
   ]
  },
  {
   "cell_type": "code",
   "execution_count": 85,
   "metadata": {},
   "outputs": [],
   "source": [
    "# sort the sub largest trim component\n",
    "\n",
    "retweet_lgst_component_trim_sub_components.sort(key=len, reverse=True)"
   ]
  },
  {
   "cell_type": "code",
   "execution_count": 86,
   "metadata": {},
   "outputs": [
    {
     "data": {
      "text/plain": [
       "72"
      ]
     },
     "execution_count": 86,
     "metadata": {},
     "output_type": "execute_result"
    }
   ],
   "source": [
    "# Get largest component of retweet_lgst_component_trim_compenents\n",
    "\n",
    "final_graph = retweet_lgst_component_trim_sub_components[0]\n",
    "len(final_graph)"
   ]
  },
  {
   "cell_type": "code",
   "execution_count": 87,
   "metadata": {},
   "outputs": [
    {
     "name": "stderr",
     "output_type": "stream",
     "text": [
      "/home/iamthedexter/anaconda3/lib/python3.6/site-packages/matplotlib/figure.py:2267: UserWarning: This figure includes Axes that are not compatible with tight_layout, so results might be incorrect.\n",
      "  warnings.warn(\"This figure includes Axes that are not compatible \"\n"
     ]
    }
   ],
   "source": [
    "nx.draw(final_graph, with_labels=False)\n",
    "plt.tight_layout()\n",
    "plt.savefig('.pn10g', format='PNG',dpi=300)\n",
    "fig = plt.show()"
   ]
  },
  {
   "cell_type": "code",
   "execution_count": 88,
   "metadata": {},
   "outputs": [],
   "source": [
    "# Get positon of the nodes\n",
    "\n",
    "node_positinon = nx.spring_layout(final_graph)"
   ]
  },
  {
   "cell_type": "code",
   "execution_count": 80,
   "metadata": {},
   "outputs": [],
   "source": [
    "# compute Betweeness centrality score\n",
    "\n",
    "node_sz_btc = btc_node(final_graph)\n",
    "nx.draw(final_graph, pos=node_positinon, node_size=node_sz_btc, with_labels=True, font_size=9)\n",
    "plt.savefig('18.png', format='PNG',dpi=300)\n",
    "fig = plt.show()"
   ]
  },
  {
   "cell_type": "code",
   "execution_count": 89,
   "metadata": {},
   "outputs": [],
   "source": [
    "# compute page rank score\n",
    "\n",
    "node_sz_pg = pg_node(final_graph)\n",
    "nx.draw_networkx(final_graph,pos=node_positinon,node_size=node_sz_pg,with_labels=True)\n",
    "plt.tight_layout()\n",
    "plt.savefig('10.png', format='PNG',dpi=300)\n",
    "fig = plt.show()"
   ]
  },
  {
   "cell_type": "code",
   "execution_count": 82,
   "metadata": {},
   "outputs": [
    {
     "data": {
      "text/plain": [
       "4806.766887836359"
      ]
     },
     "execution_count": 82,
     "metadata": {},
     "output_type": "execute_result"
    }
   ],
   "source": [
    "max(node_sz_pg)"
   ]
  },
  {
   "cell_type": "code",
   "execution_count": null,
   "metadata": {},
   "outputs": [],
   "source": [
    "import networkx as nx\n",
    "import ndlib.models.ModelConfig as mc\n",
    "import ndlib.models.epidemics.IndependentCascadesModel as ids\n",
    "\n",
    "\n",
    "# Model selection\n",
    "model = ids.IndependentCascadesModel(final_graph)\n",
    "\n",
    "# Model Configuration\n",
    "config = mc.Configuration()\n",
    "config.add_model_parameter('percentage_infected', 0.25)\n",
    "\n",
    "# Setting the edge parameters\n",
    "threshold = 0.9\n",
    "for e in final_graph.edges():\n",
    "    config.add_edge_configuration(\"threshold\", e, threshold)\n",
    "\n",
    "model.set_initial_status(config)\n",
    "\n",
    "# Simulation execution\n",
    "iterations = model.iteration_bunch(20)\n",
    "trends = model.build_trends(iterations)"
   ]
  },
  {
   "cell_type": "code",
   "execution_count": null,
   "metadata": {},
   "outputs": [],
   "source": [
    "from bokeh.io import output_notebook, show\n",
    "from ndlib.viz.bokeh.DiffusionTrend import DiffusionTrend\n",
    "\n",
    "viz = DiffusionTrend(model, trends)\n",
    "p = viz.plot(width=800, height=800)\n",
    "show(p)"
   ]
  },
  {
   "cell_type": "code",
   "execution_count": null,
   "metadata": {},
   "outputs": [],
   "source": []
  }
 ],
 "metadata": {
  "kernelspec": {
   "display_name": "Python 3",
   "language": "python",
   "name": "python3"
  },
  "language_info": {
   "codemirror_mode": {
    "name": "ipython",
    "version": 3
   },
   "file_extension": ".py",
   "mimetype": "text/x-python",
   "name": "python",
   "nbconvert_exporter": "python",
   "pygments_lexer": "ipython3",
   "version": "3.6.5"
  }
 },
 "nbformat": 4,
 "nbformat_minor": 2
}
